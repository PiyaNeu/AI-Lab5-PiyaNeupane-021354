{
  "nbformat": 4,
  "nbformat_minor": 0,
  "metadata": {
    "colab": {
      "provenance": []
    },
    "kernelspec": {
      "name": "python3",
      "display_name": "Python 3"
    },
    "language_info": {
      "name": "python"
    }
  },
  "cells": [
    {
      "cell_type": "code",
      "execution_count": 1,
      "metadata": {
        "id": "c0INcDDmcuCp"
      },
      "outputs": [],
      "source": [
        "!git config --global user.name \"username\"\n",
        "!git config --global user.email \"email@gmail.com\"\n",
        "!git config --global user.password \"pass\""
      ]
    },
    {
      "cell_type": "code",
      "source": [
        "token = \"my_token\"\n",
        "username = \"PiyaNeu\"\n",
        "repo = \"AI-Lab5-PiyaNeupane-021354\""
      ],
      "metadata": {
        "id": "U6zEeXtmdxPP"
      },
      "execution_count": 3,
      "outputs": []
    },
    {
      "cell_type": "code",
      "source": [
        "!git clone https://{token}@github.com/{username}/{repo}"
      ],
      "metadata": {
        "colab": {
          "base_uri": "https://localhost:8080/"
        },
        "id": "VC53dr_0eEzC",
        "outputId": "f359daf9-ada5-4d41-d7fc-722aed692737"
      },
      "execution_count": 4,
      "outputs": [
        {
          "output_type": "stream",
          "name": "stdout",
          "text": [
            "Cloning into 'AI-Lab5-PiyaNeupane-021354'...\n",
            "remote: Enumerating objects: 3, done.\u001b[K\n",
            "remote: Counting objects: 100% (3/3), done.\u001b[K\n",
            "remote: Total 3 (delta 0), reused 0 (delta 0), pack-reused 0 (from 0)\u001b[K\n",
            "Receiving objects: 100% (3/3), done.\n"
          ]
        }
      ]
    },
    {
      "cell_type": "code",
      "source": [
        "%cd {repo}"
      ],
      "metadata": {
        "colab": {
          "base_uri": "https://localhost:8080/"
        },
        "id": "lr-4sF85eJTf",
        "outputId": "7428214b-6775-4429-d1f4-177f365b451a"
      },
      "execution_count": 5,
      "outputs": [
        {
          "output_type": "stream",
          "name": "stdout",
          "text": [
            "/content/AI-Lab5-PiyaNeupane-021354\n"
          ]
        }
      ]
    },
    {
      "cell_type": "code",
      "source": [
        "!mv /content/k_Means_Clustering_for_2_Features_with_k=2_Clusters.py /content/AI-Lab5-PiyaNeupane-021354"
      ],
      "metadata": {
        "id": "W-zYxEppeKbn"
      },
      "execution_count": 6,
      "outputs": []
    },
    {
      "cell_type": "code",
      "source": [
        "!mv /content/k_Means_Clustering_for_Arbitrary_Features_with_k_Clusters.py /content/AI-Lab5-PiyaNeupane-021354"
      ],
      "metadata": {
        "id": "EFujmmFYeOaD"
      },
      "execution_count": 7,
      "outputs": []
    },
    {
      "cell_type": "code",
      "source": [
        "!git add --all"
      ],
      "metadata": {
        "id": "iaFcAPmfeY4D"
      },
      "execution_count": 8,
      "outputs": []
    },
    {
      "cell_type": "code",
      "source": [
        "!git commit -a -m \"Added a file to the AI LAB 5\""
      ],
      "metadata": {
        "colab": {
          "base_uri": "https://localhost:8080/"
        },
        "id": "CFpB_uUEeY7w",
        "outputId": "29923720-36a3-4b4f-b3a4-093945daba0e"
      },
      "execution_count": 9,
      "outputs": [
        {
          "output_type": "stream",
          "name": "stdout",
          "text": [
            "[main 61100a9] Added a file to the AI LAB 5\n",
            " 2 files changed, 107 insertions(+)\n",
            " create mode 100644 k_Means_Clustering_for_2_Features_with_k=2_Clusters.py\n",
            " create mode 100644 k_Means_Clustering_for_Arbitrary_Features_with_k_Clusters.py\n"
          ]
        }
      ]
    },
    {
      "cell_type": "code",
      "source": [
        "!git push origin main"
      ],
      "metadata": {
        "colab": {
          "base_uri": "https://localhost:8080/"
        },
        "id": "Qsj8qznGeZHS",
        "outputId": "3e29d3b4-20eb-4f72-8825-dabfe7822f3b"
      },
      "execution_count": 10,
      "outputs": [
        {
          "output_type": "stream",
          "name": "stdout",
          "text": [
            "Enumerating objects: 5, done.\n",
            "Counting objects:  20% (1/5)\rCounting objects:  40% (2/5)\rCounting objects:  60% (3/5)\rCounting objects:  80% (4/5)\rCounting objects: 100% (5/5)\rCounting objects: 100% (5/5), done.\n",
            "Delta compression using up to 2 threads\n",
            "Compressing objects:  25% (1/4)\rCompressing objects:  50% (2/4)\rCompressing objects:  75% (3/4)\rCompressing objects: 100% (4/4)\rCompressing objects: 100% (4/4), done.\n",
            "Writing objects:  25% (1/4)\rWriting objects:  50% (2/4)\rWriting objects: 100% (4/4)\rWriting objects: 100% (4/4), 1.50 KiB | 1.50 MiB/s, done.\n",
            "Total 4 (delta 1), reused 0 (delta 0), pack-reused 0\n",
            "remote: Resolving deltas:   0% (0/1)\u001b[K\rremote: Resolving deltas: 100% (1/1)\u001b[K\rremote: Resolving deltas: 100% (1/1), done.\u001b[K\n",
            "To https://github.com/PiyaNeu/AI-Lab5-PiyaNeupane-021354\n",
            "   55ebdf2..61100a9  main -> main\n"
          ]
        }
      ]
    }
  ]
}